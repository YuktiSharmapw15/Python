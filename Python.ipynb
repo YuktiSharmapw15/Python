{
  "nbformat": 4,
  "nbformat_minor": 0,
  "metadata": {
    "colab": {
      "provenance": []
    },
    "kernelspec": {
      "name": "python3",
      "display_name": "Python 3"
    },
    "language_info": {
      "name": "python"
    }
  },
  "cells": [
    {
      "cell_type": "markdown",
      "source": [
        "# Python"
      ],
      "metadata": {
        "id": "d_yunQ0g0M3F"
      }
    },
    {
      "cell_type": "markdown",
      "source": [
        "1. What is Python, and why is it popular?\n",
        "   - Python is a Computer programming language that's known for being easy to read, simple to write, and very versatile. It's popular because you can use it for almost anything - like building websites, analyzing data, making AI, automating tasks, or even creating games.\n",
        "2. What is an interpreter in Python?\n",
        "   - An interpreter in Python is a tool that reads your code and makes the computer run it, one line at a time.\n",
        "3. What are pre-defined keywords in Python?\n",
        "   - Predefined keywords in Python are special words that the language already reserves for specific purposes - like if, while, for, true, false, and so on.\n",
        "4. Can keywords be used as variable names?\n",
        "   - No, Keywords can't be used as variable names in Python because they already have a fixed meaning in the language.\n",
        "5. What is mutability in Python?\n",
        "   - Mutability in Python means whether or not something can be changed after it's created.\n",
        "6. Why are lists mutable, but tuples are immutable?\n",
        "   - lists are mutable because python is designed to let you change, add, or remove items in them anytime - like an editable notebook.\n",
        "7. What is the difference between \"==\" and \"is\" operators in Python?\n",
        "   - In Python, '==' checks if two things have the same value, while 'is' checks if they are actually the same object in memory.\n",
        "8. What are logical operators in Python?\n",
        "   - Logical operators in Python are used to combine or compare conditions.\n",
        "     The main ones are-\n",
        "   1. and - True if both conditions are true.\n",
        "   2. or - True if one condition is true.\n",
        "   3. not - reverses the condition.\n",
        "9. What is type casting in Python?\n",
        "   - Type castng in Python means changing a value from one data type to another.\n",
        "10. What is the difference between Implicit and explicit type casting?\n",
        "    - Implicit type casting is when Python automatically changes the type for you, without you asking - like adding an integer and a float, and Python turns the integer into a float.\n",
        "    - Explicit type casting is when you manually change the type using functions like int(), float(), or str().\n",
        "11. What is the purpose of conditional statements in Python?\n",
        "    - The purpose of conditional statements in Python is to let your program make decisions and run certain code only when a condition is true.\n",
        "12. How does the elif statement work?\n",
        "    - The elif statement in Python means \"else if\". It lets you check another condition if the first 'if' condition is false. Python goes through the conditions in order and runs the code for the first one thats true, then skips the rest.\n",
        "13. What is the difference between for and while loops?\n",
        "    - A for loop runs a set number of times, usually when you know exactly how many times you want to repeat something.\n",
        "    - A while loop keeps running as long as a condition is true, which is useful when you dont know exactly how many times you'll need to repeat.\n",
        "14. Describe a scenario where a while loop is more suitable than a for loop.\n",
        "    - A while loop is better when you dont know in advance how many times you'll need to repeat something."
      ],
      "metadata": {
        "id": "sIuHfcZ00TrE"
      }
    },
    {
      "cell_type": "code",
      "source": [
        "# Write a Python program to print \"hello, World!\"\n",
        "\n",
        "print(\"hello, world!\")"
      ],
      "metadata": {
        "colab": {
          "base_uri": "https://localhost:8080/"
        },
        "id": "LArhNH8TK-bT",
        "outputId": "b100107b-fc3d-4a49-a8d3-06f9b88c6d70"
      },
      "execution_count": null,
      "outputs": [
        {
          "output_type": "stream",
          "name": "stdout",
          "text": [
            "hello, world!\n"
          ]
        }
      ]
    },
    {
      "cell_type": "code",
      "execution_count": null,
      "metadata": {
        "id": "9Oco8QGb0GHS",
        "colab": {
          "base_uri": "https://localhost:8080/"
        },
        "outputId": "2eadd218-5079-4594-c506-370348e84a76"
      },
      "outputs": [
        {
          "output_type": "stream",
          "name": "stdout",
          "text": [
            "what is your name?Yukti Sharma\n",
            "how old are you?19\n",
            "my name is Yukti Sharma and i am 19 years old\n"
          ]
        }
      ],
      "source": [
        "# Write a Python program that displays your name and age.\n",
        "\n",
        "name = input(\"what is your name?\")\n",
        "age = input(\"how old are you?\")\n",
        "print(f\"my name is {name} and i am {age} years old\")\n",
        "\n"
      ]
    },
    {
      "cell_type": "code",
      "source": [
        "# Write code to print all the pre-defined keywords in Python using the keyword library.\n",
        "\n",
        "import keyword\n",
        "print(keyword.kwlist)"
      ],
      "metadata": {
        "colab": {
          "base_uri": "https://localhost:8080/"
        },
        "id": "ei6OHnVuOZkN",
        "outputId": "d815b91f-d68b-4dd3-961b-4a9ce88e9369"
      },
      "execution_count": null,
      "outputs": [
        {
          "output_type": "stream",
          "name": "stdout",
          "text": [
            "['False', 'None', 'True', 'and', 'as', 'assert', 'async', 'await', 'break', 'class', 'continue', 'def', 'del', 'elif', 'else', 'except', 'finally', 'for', 'from', 'global', 'if', 'import', 'in', 'is', 'lambda', 'nonlocal', 'not', 'or', 'pass', 'raise', 'return', 'try', 'while', 'with', 'yield']\n"
          ]
        }
      ]
    },
    {
      "cell_type": "code",
      "source": [
        "# Write a program that checks if a given word is a python keyword.\n",
        "\n",
        "import keyword\n",
        "word = input(\"enter a word\")\n",
        "if keyword.iskeyword(word):\n",
        "  print(f\"{word} is a keyword\")\n",
        "else:\n",
        "  print(f\"{word} is not a keyword\")"
      ],
      "metadata": {
        "colab": {
          "base_uri": "https://localhost:8080/"
        },
        "id": "DpnW1EfGPHii",
        "outputId": "1121c160-4fd5-44a1-a3a8-376e581dc901"
      },
      "execution_count": 2,
      "outputs": [
        {
          "output_type": "stream",
          "name": "stdout",
          "text": [
            "enter a wordhello\n",
            "hello is not a keyword\n"
          ]
        }
      ]
    },
    {
      "cell_type": "code",
      "source": [
        "# Create a list and tuple in Python, and demonstrate how attempting to change an element works differently.\n",
        "\n",
        "my_list =[1, 2, 3]\n",
        "my_list[0] =10 # we can change it\n",
        "print(my_list)\n",
        "my_tuple = (1, 2, 3)\n",
        "my_tuple[0] = 10 # this will give error if you try\n",
        "print(my_tuple)\n",
        "\n",
        "\n",
        ""
      ],
      "metadata": {
        "colab": {
          "base_uri": "https://localhost:8080/",
          "height": 228
        },
        "id": "E52h_c5abhbT",
        "outputId": "f4167303-9c9d-4bc4-ad5f-52562e3d00f1"
      },
      "execution_count": 6,
      "outputs": [
        {
          "output_type": "stream",
          "name": "stdout",
          "text": [
            "[10, 2, 3]\n"
          ]
        },
        {
          "output_type": "error",
          "ename": "TypeError",
          "evalue": "'tuple' object does not support item assignment",
          "traceback": [
            "\u001b[0;31m---------------------------------------------------------------------------\u001b[0m",
            "\u001b[0;31mTypeError\u001b[0m                                 Traceback (most recent call last)",
            "\u001b[0;32m/tmp/ipython-input-4180097513.py\u001b[0m in \u001b[0;36m<cell line: 0>\u001b[0;34m()\u001b[0m\n\u001b[1;32m      5\u001b[0m \u001b[0mprint\u001b[0m\u001b[0;34m(\u001b[0m\u001b[0mmy_list\u001b[0m\u001b[0;34m)\u001b[0m\u001b[0;34m\u001b[0m\u001b[0;34m\u001b[0m\u001b[0m\n\u001b[1;32m      6\u001b[0m \u001b[0mmy_tuple\u001b[0m \u001b[0;34m=\u001b[0m \u001b[0;34m(\u001b[0m\u001b[0;36m1\u001b[0m\u001b[0;34m,\u001b[0m \u001b[0;36m2\u001b[0m\u001b[0;34m,\u001b[0m \u001b[0;36m3\u001b[0m\u001b[0;34m)\u001b[0m\u001b[0;34m\u001b[0m\u001b[0;34m\u001b[0m\u001b[0m\n\u001b[0;32m----> 7\u001b[0;31m \u001b[0mmy_tuple\u001b[0m\u001b[0;34m[\u001b[0m\u001b[0;36m0\u001b[0m\u001b[0;34m]\u001b[0m \u001b[0;34m=\u001b[0m \u001b[0;36m10\u001b[0m \u001b[0;31m# this will give error if you try\u001b[0m\u001b[0;34m\u001b[0m\u001b[0;34m\u001b[0m\u001b[0m\n\u001b[0m\u001b[1;32m      8\u001b[0m \u001b[0mprint\u001b[0m\u001b[0;34m(\u001b[0m\u001b[0mmy_tuple\u001b[0m\u001b[0;34m)\u001b[0m\u001b[0;34m\u001b[0m\u001b[0;34m\u001b[0m\u001b[0m\n\u001b[1;32m      9\u001b[0m \u001b[0;34m\u001b[0m\u001b[0m\n",
            "\u001b[0;31mTypeError\u001b[0m: 'tuple' object does not support item assignment"
          ]
        }
      ]
    },
    {
      "cell_type": "code",
      "source": [
        "# Write a function to demonstrate the behaviour of mutable and immutable arguments.\n",
        "\n",
        "def demo(a, b):\n",
        "  a = a + 1\n",
        "  b.append(4)\n",
        "  print(\"Inside function:\")\n",
        "  print(f\"Immutable argument 'a': {a}\")\n",
        "  print(f\"Mutable argument 'b': {b}\")\n",
        "\n",
        "x = 5\n",
        "y = [1, 2, 3]\n",
        "\n",
        "print(\"Before function call:\")\n",
        "print(f\"Immutable argument 'x': {x}\")\n",
        "print(f\"Mutable argument 'y': {y}\")\n",
        "\n",
        "demo(x, y)\n",
        "\n",
        "print(\"After function call:\")\n",
        "print(f\"Immutable argument 'x': {x}\")\n",
        "print(f\"Mutable argument 'y': {y}\")"
      ],
      "metadata": {
        "colab": {
          "base_uri": "https://localhost:8080/"
        },
        "id": "liKpMfJQb_zx",
        "outputId": "2328d64e-b466-4bca-dbb1-a53e1d697b34"
      },
      "execution_count": 7,
      "outputs": [
        {
          "output_type": "stream",
          "name": "stdout",
          "text": [
            "Before function call:\n",
            "Immutable argument 'x': 5\n",
            "Mutable argument 'y': [1, 2, 3]\n",
            "Inside function:\n",
            "Immutable argument 'a': 6\n",
            "Mutable argument 'b': [1, 2, 3, 4]\n",
            "After function call:\n",
            "Immutable argument 'x': 5\n",
            "Mutable argument 'y': [1, 2, 3, 4]\n"
          ]
        }
      ]
    },
    {
      "cell_type": "code",
      "source": [
        "# Write a program that performs basic arithmetic operations on two user-input numbers.\n",
        "\n",
        "number1 = int(input(\"enter first number:\"))\n",
        "number2 = int(input(\"enter second number:\"))\n",
        "add = number1 + number2\n",
        "sub = number1 - number2\n",
        "mul = number1 * number2\n",
        "div = number1 / number2\n",
        "mod = number1 % number2\n",
        "print(\"Addition:\",add)\n",
        "print(\"Subtraction:\",sub)\n",
        "print(\"Multiplication:\",mul)\n",
        "print(\"Division:\",div)\n",
        "print(\"Remainder:\",mod)\n"
      ],
      "metadata": {
        "id": "iKWWjjm7T0VV",
        "colab": {
          "base_uri": "https://localhost:8080/"
        },
        "outputId": "d8c55753-311c-4ab5-a8b5-cb1e895e6d08"
      },
      "execution_count": 8,
      "outputs": [
        {
          "output_type": "stream",
          "name": "stdout",
          "text": [
            "enter first number:12\n",
            "enter second number:7\n",
            "Addition: 19\n",
            "Subtraction: 5\n",
            "Multiplication: 84\n",
            "Division: 1.7142857142857142\n",
            "Remainder: 5\n"
          ]
        }
      ]
    },
    {
      "cell_type": "code",
      "source": [
        "# Write a program to demonstrate the use of logical operators.\n",
        "\n",
        "x = True\n",
        "y = False\n",
        "print(\"x and y:\", x and y)\n",
        "print(\"x or y:\", x or y)\n",
        "print(\"not x:\", not x)"
      ],
      "metadata": {
        "colab": {
          "base_uri": "https://localhost:8080/"
        },
        "id": "xcp9bLK4q0XL",
        "outputId": "1f75f751-ae17-4f9d-a186-4b58cd9e7dde"
      },
      "execution_count": 9,
      "outputs": [
        {
          "output_type": "stream",
          "name": "stdout",
          "text": [
            "x and y: False\n",
            "x or y: True\n",
            "not x: False\n"
          ]
        }
      ]
    },
    {
      "cell_type": "code",
      "source": [
        "# Write a python program to convert user input from string to integer, float, and boolean types.\n",
        "\n",
        "s = input(\"enter a number:\")\n",
        "print(\"integer:\", int(s))\n",
        "print(\"float:\", float(s))\n",
        "print(\"boolean:\", bool(int(s)))"
      ],
      "metadata": {
        "colab": {
          "base_uri": "https://localhost:8080/"
        },
        "id": "T17nHeFksOYZ",
        "outputId": "ec062841-f861-427c-c985-870884f5e33b"
      },
      "execution_count": 10,
      "outputs": [
        {
          "output_type": "stream",
          "name": "stdout",
          "text": [
            "enter a number:452\n",
            "integer: 452\n",
            "float: 452.0\n",
            "boolean: True\n"
          ]
        }
      ]
    },
    {
      "cell_type": "code",
      "source": [
        "# Write code to demonstrate type casting with list elements.\n",
        "\n",
        "nums = [\"10\", \"20\", \"30\"]\n",
        "nums_int = []\n",
        "for n in nums:\n",
        "  nums_int.append(int(n))\n",
        "print(nums_int)"
      ],
      "metadata": {
        "colab": {
          "base_uri": "https://localhost:8080/"
        },
        "id": "-NUPeTzau3bb",
        "outputId": "56fde3e8-b2aa-4460-fc0d-85353e18a5c6"
      },
      "execution_count": 11,
      "outputs": [
        {
          "output_type": "stream",
          "name": "stdout",
          "text": [
            "[10, 20, 30]\n"
          ]
        }
      ]
    },
    {
      "cell_type": "code",
      "source": [
        "# Write a program that checks if a number is positive, negative, or zero.\n",
        "\n",
        "num = int(input(\"enter a number:\"))\n",
        "if num > 0:\n",
        "  print(\"positive\")\n",
        "elif num < 0:\n",
        "  print(\"negative\")\n",
        "else:\n",
        "  print(\"zero\")"
      ],
      "metadata": {
        "colab": {
          "base_uri": "https://localhost:8080/"
        },
        "id": "pD_IInaCx18d",
        "outputId": "a77364e0-e954-407a-e573-a2c7c1a9accf"
      },
      "execution_count": 12,
      "outputs": [
        {
          "output_type": "stream",
          "name": "stdout",
          "text": [
            "enter a number:29\n",
            "positive\n"
          ]
        }
      ]
    },
    {
      "cell_type": "code",
      "source": [
        "# Write a for loop to print numbers from 1 to 10.\n",
        "\n",
        "for i in range(1, 11):\n",
        "  print(i)"
      ],
      "metadata": {
        "colab": {
          "base_uri": "https://localhost:8080/"
        },
        "id": "xQjPmItBzBGf",
        "outputId": "b16c12d5-fd31-42c3-eb40-04319bae4783"
      },
      "execution_count": 13,
      "outputs": [
        {
          "output_type": "stream",
          "name": "stdout",
          "text": [
            "1\n",
            "2\n",
            "3\n",
            "4\n",
            "5\n",
            "6\n",
            "7\n",
            "8\n",
            "9\n",
            "10\n"
          ]
        }
      ]
    },
    {
      "cell_type": "code",
      "source": [
        "# Write a Python program to find the sum of all even numbers between 1 to 50.\n",
        "\n",
        "total = 0\n",
        "for i in range(2, 51, 2):\n",
        "  total += i\n",
        "print(\"Sum of even numbers:\", total)"
      ],
      "metadata": {
        "colab": {
          "base_uri": "https://localhost:8080/"
        },
        "id": "su5xAaVn0e-B",
        "outputId": "cc0cba5c-0001-427f-f0d8-f158ee892ecf"
      },
      "execution_count": 14,
      "outputs": [
        {
          "output_type": "stream",
          "name": "stdout",
          "text": [
            "Sum of even numbers: 650\n"
          ]
        }
      ]
    },
    {
      "cell_type": "code",
      "source": [
        "# Write a program to reverse a string using a while loop.\n",
        "\n",
        "text = input(\"enter a string:\")\n",
        "reversed_text = \"\"\n",
        "i = len(text) - 1\n",
        "while i >= 0:\n",
        "  reversed_text += text[i]\n",
        "  i -= 1\n",
        "print(\"reversed string:\", reversed_text)"
      ],
      "metadata": {
        "colab": {
          "base_uri": "https://localhost:8080/"
        },
        "id": "zf1cp3rp11qV",
        "outputId": "6d5de55e-6662-4740-f622-ec7599acbc53"
      },
      "execution_count": 15,
      "outputs": [
        {
          "output_type": "stream",
          "name": "stdout",
          "text": [
            "enter a string:hello everyone\n",
            "reversed string: enoyreve olleh\n"
          ]
        }
      ]
    },
    {
      "cell_type": "code",
      "source": [
        "# Write a Python program to calculate the factorial of a number provided by the user using a while loop.\n",
        "\n",
        "n = int(input(\"enter a number:\"))\n",
        "fact = 1\n",
        "i = 1\n",
        "while i <= n:\n",
        "  fact *= i\n",
        "  i += 1\n",
        "  print(\"factorial:\", fact)\n",
        "\n",
        "\n"
      ],
      "metadata": {
        "colab": {
          "base_uri": "https://localhost:8080/"
        },
        "id": "CPikn1KB3ncv",
        "outputId": "079ef6de-3649-4000-d173-8a096dcb8465"
      },
      "execution_count": 16,
      "outputs": [
        {
          "output_type": "stream",
          "name": "stdout",
          "text": [
            "enter a number:45\n",
            "factorial: 1\n",
            "factorial: 2\n",
            "factorial: 6\n",
            "factorial: 24\n",
            "factorial: 120\n",
            "factorial: 720\n",
            "factorial: 5040\n",
            "factorial: 40320\n",
            "factorial: 362880\n",
            "factorial: 3628800\n",
            "factorial: 39916800\n",
            "factorial: 479001600\n",
            "factorial: 6227020800\n",
            "factorial: 87178291200\n",
            "factorial: 1307674368000\n",
            "factorial: 20922789888000\n",
            "factorial: 355687428096000\n",
            "factorial: 6402373705728000\n",
            "factorial: 121645100408832000\n",
            "factorial: 2432902008176640000\n",
            "factorial: 51090942171709440000\n",
            "factorial: 1124000727777607680000\n",
            "factorial: 25852016738884976640000\n",
            "factorial: 620448401733239439360000\n",
            "factorial: 15511210043330985984000000\n",
            "factorial: 403291461126605635584000000\n",
            "factorial: 10888869450418352160768000000\n",
            "factorial: 304888344611713860501504000000\n",
            "factorial: 8841761993739701954543616000000\n",
            "factorial: 265252859812191058636308480000000\n",
            "factorial: 8222838654177922817725562880000000\n",
            "factorial: 263130836933693530167218012160000000\n",
            "factorial: 8683317618811886495518194401280000000\n",
            "factorial: 295232799039604140847618609643520000000\n",
            "factorial: 10333147966386144929666651337523200000000\n",
            "factorial: 371993326789901217467999448150835200000000\n",
            "factorial: 13763753091226345046315979581580902400000000\n",
            "factorial: 523022617466601111760007224100074291200000000\n",
            "factorial: 20397882081197443358640281739902897356800000000\n",
            "factorial: 815915283247897734345611269596115894272000000000\n",
            "factorial: 33452526613163807108170062053440751665152000000000\n",
            "factorial: 1405006117752879898543142606244511569936384000000000\n",
            "factorial: 60415263063373835637355132068513997507264512000000000\n",
            "factorial: 2658271574788448768043625811014615890319638528000000000\n",
            "factorial: 119622220865480194561963161495657715064383733760000000000\n"
          ]
        }
      ]
    }
  ]
}